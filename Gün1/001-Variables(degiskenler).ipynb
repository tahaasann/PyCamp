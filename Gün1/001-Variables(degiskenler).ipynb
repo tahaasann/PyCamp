{
 "cells": [
  {
   "cell_type": "code",
   "execution_count": 1,
   "id": "ecde717f",
   "metadata": {},
   "outputs": [
    {
     "data": {
      "text/plain": [
       "8"
      ]
     },
     "execution_count": 1,
     "metadata": {},
     "output_type": "execute_result"
    }
   ],
   "source": [
    "3 + 5"
   ]
  },
  {
   "cell_type": "code",
   "execution_count": 2,
   "id": "8a81a13a",
   "metadata": {},
   "outputs": [
    {
     "data": {
      "text/plain": [
       "12"
      ]
     },
     "execution_count": 2,
     "metadata": {},
     "output_type": "execute_result"
    }
   ],
   "source": [
    "3 * 4"
   ]
  },
  {
   "cell_type": "code",
   "execution_count": 1,
   "id": "8c015322",
   "metadata": {},
   "outputs": [
    {
     "data": {
      "text/plain": [
       "12"
      ]
     },
     "execution_count": 1,
     "metadata": {},
     "output_type": "execute_result"
    }
   ],
   "source": [
    "4 * 3"
   ]
  },
  {
   "cell_type": "markdown",
   "id": "0898be2d",
   "metadata": {},
   "source": [
    "# Variables"
   ]
  },
  {
   "cell_type": "code",
   "execution_count": 2,
   "id": "a322b889",
   "metadata": {},
   "outputs": [
    {
     "data": {
      "text/plain": [
       "225.0"
      ]
     },
     "execution_count": 2,
     "metadata": {},
     "output_type": "execute_result"
    }
   ],
   "source": [
    "900 / 4"
   ]
  },
  {
   "cell_type": "code",
   "execution_count": 3,
   "id": "439a8aa4",
   "metadata": {},
   "outputs": [
    {
     "data": {
      "text/plain": [
       "128.57142857142858"
      ]
     },
     "execution_count": 3,
     "metadata": {},
     "output_type": "execute_result"
    }
   ],
   "source": [
    "900/7"
   ]
  },
  {
   "cell_type": "code",
   "execution_count": 4,
   "id": "7e3cfd07",
   "metadata": {},
   "outputs": [
    {
     "data": {
      "text/plain": [
       "-90"
      ]
     },
     "execution_count": 4,
     "metadata": {},
     "output_type": "execute_result"
    }
   ],
   "source": [
    "10 - 100"
   ]
  },
  {
   "cell_type": "code",
   "execution_count": 5,
   "id": "79160a78",
   "metadata": {},
   "outputs": [
    {
     "data": {
      "text/plain": [
       "90"
      ]
     },
     "execution_count": 5,
     "metadata": {},
     "output_type": "execute_result"
    }
   ],
   "source": [
    "10*9"
   ]
  },
  {
   "cell_type": "code",
   "execution_count": 6,
   "id": "be14e1ad",
   "metadata": {},
   "outputs": [
    {
     "data": {
      "text/plain": [
       "15625"
      ]
     },
     "execution_count": 6,
     "metadata": {},
     "output_type": "execute_result"
    }
   ],
   "source": [
    "5 *5 *5 * 5 * 5 * 5"
   ]
  },
  {
   "cell_type": "code",
   "execution_count": 7,
   "id": "b0f360fa",
   "metadata": {},
   "outputs": [
    {
     "data": {
      "text/plain": [
       "6"
      ]
     },
     "execution_count": 7,
     "metadata": {},
     "output_type": "execute_result"
    }
   ],
   "source": [
    "4+2"
   ]
  },
  {
   "cell_type": "code",
   "execution_count": 8,
   "id": "76c02115",
   "metadata": {},
   "outputs": [
    {
     "data": {
      "text/plain": [
       "12.0"
      ]
     },
     "execution_count": 8,
     "metadata": {},
     "output_type": "execute_result"
    }
   ],
   "source": [
    "60 / 5"
   ]
  },
  {
   "cell_type": "code",
   "execution_count": 9,
   "id": "ce47bb83",
   "metadata": {},
   "outputs": [
    {
     "data": {
      "text/plain": [
       "300"
      ]
     },
     "execution_count": 9,
     "metadata": {},
     "output_type": "execute_result"
    }
   ],
   "source": [
    "60 * 5"
   ]
  },
  {
   "cell_type": "code",
   "execution_count": 10,
   "id": "ef4c3fb3",
   "metadata": {},
   "outputs": [],
   "source": [
    "age = 50"
   ]
  },
  {
   "cell_type": "code",
   "execution_count": 11,
   "id": "e0edb2d6",
   "metadata": {},
   "outputs": [
    {
     "data": {
      "text/plain": [
       "50"
      ]
     },
     "execution_count": 11,
     "metadata": {},
     "output_type": "execute_result"
    }
   ],
   "source": [
    "age"
   ]
  },
  {
   "cell_type": "code",
   "execution_count": 12,
   "id": "0d02cd7e",
   "metadata": {},
   "outputs": [
    {
     "data": {
      "text/plain": [
       "250"
      ]
     },
     "execution_count": 12,
     "metadata": {},
     "output_type": "execute_result"
    }
   ],
   "source": [
    "age * 5"
   ]
  },
  {
   "cell_type": "code",
   "execution_count": 13,
   "id": "1cc14e49",
   "metadata": {},
   "outputs": [
    {
     "data": {
      "text/plain": [
       "25.0"
      ]
     },
     "execution_count": 13,
     "metadata": {},
     "output_type": "execute_result"
    }
   ],
   "source": [
    "age / 2"
   ]
  },
  {
   "cell_type": "code",
   "execution_count": 15,
   "id": "0ba7745d",
   "metadata": {},
   "outputs": [
    {
     "data": {
      "text/plain": [
       "200"
      ]
     },
     "execution_count": 15,
     "metadata": {},
     "output_type": "execute_result"
    }
   ],
   "source": [
    "age * 4"
   ]
  },
  {
   "cell_type": "code",
   "execution_count": null,
   "id": "4e78c0fe",
   "metadata": {},
   "outputs": [],
   "source": []
  }
 ],
 "metadata": {
  "kernelspec": {
   "display_name": "Python 3 (ipykernel)",
   "language": "python",
   "name": "python3"
  },
  "language_info": {
   "codemirror_mode": {
    "name": "ipython",
    "version": 3
   },
   "file_extension": ".py",
   "mimetype": "text/x-python",
   "name": "python",
   "nbconvert_exporter": "python",
   "pygments_lexer": "ipython3",
   "version": "3.11.4"
  }
 },
 "nbformat": 4,
 "nbformat_minor": 5
}
